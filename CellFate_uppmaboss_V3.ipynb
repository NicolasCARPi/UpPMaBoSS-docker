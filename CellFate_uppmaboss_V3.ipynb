{
 "cells": [
  {
   "cell_type": "markdown",
   "metadata": {},
   "source": [
    "# UpPMaBoSS notebook for the cell fate model"
   ]
  },
  {
   "cell_type": "raw",
   "metadata": {},
   "source": [
    "[IMPORTANT]\n",
    "\n",
    "There are two options to run this notebook.\n",
    "\n",
    "** With the docker **\n",
    "An image was created where all necessary files are available.\n",
    "\n",
    "** By creating a conda environment locally **\n",
    "We suggest to download miniconda3 and create an environment named *umb* with the follwoing command:\n",
    "    conda create -n umb -c colomoto upmaboss pymaboss notebook seaborn\n",
    "\n",
    "To launch this environment, you need to activate it with the command before launchin the jupyter notebook:\n",
    "    conda activate umb"
   ]
  },
  {
   "cell_type": "markdown",
   "metadata": {},
   "source": [
    "This notebook shows an example of the use of UpPMaBoSS. \n",
    "UpPMaBoSS computes the evolution and the dynamics of a population of cells taking into account both their intracellular and intercellular regulations.\n",
    "\n",
    "Three files related to the logical model used for the analysis are required:\n",
    "==> the model files: *CellFateModel.bnd* and *CellFateModel.cfg*. \n",
    "==> the configuration file for UpPMaBoSS: *CellFate.upp* "
   ]
  },
  {
   "cell_type": "code",
   "execution_count": 1,
   "metadata": {
    "scrolled": true
   },
   "outputs": [],
   "source": [
    "# Set up working environment\n",
    "import matplotlib.pyplot as plt\n",
    "from matplotlib.patches import Rectangle\n",
    "import seaborn as sns\n",
    "import pandas as pd\n",
    "import numpy as np\n",
    "import os\n",
    "\n",
    "import maboss\n",
    "import umbs\n",
    "\n",
    "\n",
    "# Set seaborn style and create color maps: white-black scale and blue-light-red for ratios\n",
    "sns.set_style(\"white\")\n",
    "colormap_scale = sns.light_palette(\"black\", as_cmap=True)\n",
    "colormap_ratios = sns.diverging_palette(240, 0, center='light', as_cmap=True)\n",
    "\n",
    "# Shortcut to save figures with a common pattern and format\n",
    "def save_figure(figure, title):\n",
    "    figure.savefig(\"figure_%s.pdf\" % title, bbox_inches=\"tight\")"
   ]
  },
  {
   "cell_type": "raw",
   "metadata": {},
   "source": [
    "The cell fate model (Calzone et al., 2010, PLoS Comp Biol.) is a logical model studying the cell fate decision process in response to the engagement of the death receptors TNFR and Fas.  According to cell conditions, several pathways can be activated: survival through NFkB activation, death through necrosis (NonACD) and a programmed cell death (apoptosis).  \n",
    "\n",
    "The BND file lists all logical rules.\n",
    "The CFG file defines all the parameters for the simulations.\n",
    "The UPP file informs on the intercellular conditions and population updates."
   ]
  },
  {
   "cell_type": "code",
   "execution_count": 2,
   "metadata": {},
   "outputs": [],
   "source": [
    "# Set up the required files\n",
    "bnd_file =\"CellFateModel.bnd\"\n",
    "cfg_WT = \"CellFateModel.cfg\"\n",
    "upp_file = \"CellFate.upp\""
   ]
  },
  {
   "cell_type": "markdown",
   "metadata": {},
   "source": [
    "# MaBoSS simulation of the wild type model"
   ]
  },
  {
   "cell_type": "raw",
   "metadata": {},
   "source": [
    "Before running UpPMaBoSS, we strongly suggest to run an initial simulation of the wild type model with MaBoSS for the whole simulation time. \n",
    "\n",
    "The purpose is to see how the population behaves without being updated at each time step.  Here, the total simulation time is 48 hours. The output results is restricted to the three model nodes \"Death\", \"Division\", \"NFkB\"."
   ]
  },
  {
   "cell_type": "code",
   "execution_count": 3,
   "metadata": {},
   "outputs": [],
   "source": [
    "# Load the Wild-Type model\n",
    "model_WT = maboss.load(bnd_file, cfg_WT)\n",
    "\n",
    "# Set some parameters in the cfg file: \"max_time\" \n",
    "# and select the variables considered to be internal (not appearing in the resulting csv file)\n",
    "# here, only the outputs will appear: Death, Division and NFkB\n",
    "model_48h = maboss.copy_and_update_parameters(model_WT, {'max_time':48})\n",
    "for name in \"mcIAP mXIAP mROS NonACD Apoptosis Survival TNF ATP FADD cIAP FASL TNFR DISC_TNF DISC_FAS RIP1 RIP1ub RIP1K IKK CASP8 BAX BCL2 ROS MPT MOMP SMAC Cyt_c XIAP apoptosome CASP3 cFLIP\".split(' '):\n",
    "    model_48h.network[name].is_internal = True\n"
   ]
  },
  {
   "cell_type": "code",
   "execution_count": 4,
   "metadata": {},
   "outputs": [],
   "source": [
    "model_48h.network.set_output(('Death','Division','NFkB'))\n",
    "run_48h = model_48h.run()"
   ]
  },
  {
   "cell_type": "code",
   "execution_count": 5,
   "metadata": {},
   "outputs": [
    {
     "data": {
      "text/plain": [
       "<matplotlib.axes._subplots.AxesSubplot at 0x7f29a114add8>"
      ]
     },
     "execution_count": 5,
     "metadata": {},
     "output_type": "execute_result"
    },
    {
     "data": {
      "image/png": "[encoded data removed]",
      "text/plain": [
       "<Figure size 432x288 with 1 Axes>"
      ]
     },
     "metadata": {
      "needs_background": "light"
     },
     "output_type": "display_data"
    }
   ],
   "source": [
    "# Plot the results of the WT simulation\n",
    "run_48h.get_states_probtraj().plot()\n",
    "\n",
    "# Note that the model state <nil> means that none of the external variables are ON. "
   ]
  },
  {
   "cell_type": "markdown",
   "metadata": {},
   "source": [
    "# UpPMaBoSS simulations"
   ]
  },
  {
   "cell_type": "raw",
   "metadata": {},
   "source": [
    "We wish to explore the population dynamics for the cell fate model. \n",
    "We divide the 48 hours into 16 runs (the variable \"steps\" is set to 16 in CellFate.upp file) of 3 time steps each (the variable \"max_time\" is set to 3 in CellFate.cfg file)."
   ]
  },
  {
   "cell_type": "markdown",
   "metadata": {},
   "source": [
    "## Wild Type simulations with and without the feedback"
   ]
  },
  {
   "cell_type": "raw",
   "metadata": {},
   "source": [
    "The model with the feedback considers that NFkB activates TNFR of the neighbouring cells. The model with the feedback is called \"WT\" and the model without the feedback is called \"NoFB\"."
   ]
  },
  {
   "cell_type": "code",
   "execution_count": 6,
   "metadata": {},
   "outputs": [],
   "source": [
    "# Run UpPMaBoSS on the WT model and collect population ratios\n",
    "# A folder named \"WT\" \"is created with the 16 runs\n",
    "run_WT = umbs.UpP_MaBoSS(model_WT, upp_file, 'WT')\n",
    "pop_ratios_WT = run_WT.get_population_ratios('NFkB -> TNF')"
   ]
  },
  {
   "cell_type": "code",
   "execution_count": 7,
   "metadata": {},
   "outputs": [],
   "source": [
    "# Create a variant without the population feedback NFkB -> TNF\n",
    "model_NoFB = maboss.copy_and_update_parameters(model_WT, {'$ProdTNF_NFkB': 0})\n",
    "\n",
    "# Run UpPMaBoSS for the model without population feedback\n",
    "# A folder named \"NoFB\" \"is created with the 16 runs\n",
    "run_NoFB = umbs.UpP_MaBoSS(model_NoFB, upp_file, 'NoFB')\n",
    "pop_ratios_NoFB = run_NoFB.get_population_ratios('No NFkB -> TNF')"
   ]
  },
  {
   "cell_type": "code",
   "execution_count": 8,
   "metadata": {
    "scrolled": true
   },
   "outputs": [
    {
     "data": {
      "image/png": "[encoded data removed]",
      "text/plain": [
       "<Figure size 432x360 with 1 Axes>"
      ]
     },
     "metadata": {
      "needs_background": "light"
     },
     "output_type": "display_data"
    }
   ],
   "source": [
    "# Plot population ratio with/without population feedback\n",
    "# A figure is saved in the folder with the name: \"figure_ratios.pdf\"\n",
    "figure = plt.figure(figsize = (6,5))\n",
    "pop_ratios_WT.plot(style='.-k', legend=True)\n",
    "pop_ratios_NoFB.plot(style='.-b', legend=True)\n",
    "save_figure(figure, 'ratios')"
   ]
  },
  {
   "cell_type": "markdown",
   "metadata": {},
   "source": [
    "## Simulations with and without TNF treatments"
   ]
  },
  {
   "cell_type": "raw",
   "metadata": {},
   "source": [
    "In this section, we simulate the effect of several scenarios for TNF treatments on the wild type cell fate model. "
   ]
  },
  {
   "cell_type": "raw",
   "metadata": {},
   "source": [
    "We first run a simulation for 48 hours without TNF treatment. "
   ]
  },
  {
   "cell_type": "code",
   "execution_count": 9,
   "metadata": {},
   "outputs": [],
   "source": [
    "# Create a model with no TNF (TNF OFF)\n",
    "model_noTNF = model_WT.copy()\n",
    "model_noTNF.network.set_istate('TNF', [1,0])\n",
    "\n",
    "# Run UpPMaBoSS for the model with no TNF\n",
    "# A folder named \"noTNF\" \"is created with the 16 runs\n",
    "run_noTNF = umbs.UpP_MaBoSS(model_noTNF, upp_file, 'noTNF')\n",
    "pop_ratios_noTNF = run_noTNF.get_population_ratios('No pulse TNF')"
   ]
  },
  {
   "cell_type": "raw",
   "metadata": {},
   "source": [
    "We then perform a treatment on a population of cells that received an initial TNF treatment (reTNF) and another treatment on a population that was not initially treated with TNF (reTNF_noTNF)"
   ]
  },
  {
   "cell_type": "code",
   "execution_count": 10,
   "metadata": {},
   "outputs": [
    {
     "name": "stderr",
     "output_type": "stream",
     "text": [
      "Warning: the given values should sum up to 1\n"
     ]
    }
   ],
   "source": [
    "# Create a model for a second treatment of TNF\n",
    "model_reTNF = maboss.copy_and_update_parameters(model_WT, {'$TNF_induc': 20})\n",
    "\n",
    "# Run UpPMaBoSS for the second treatment of TNF after a WT run with TNF ON\n",
    "# A folder named \"reTNF\" \"is created with the 16 runs\n",
    "run_reTNF = umbs.UpP_MaBoSS(model_reTNF, upp_file, 'reTNF', previous_run=run_WT)\n",
    "pop_ratios_reTNF = run_reTNF.get_population_ratios('TNF')\n",
    "\n",
    "# Run UpPMaBoSS for a treatment of TNF after a run with no TNF (where TNF was initially OFF)\n",
    "# A folder named \"noTNF_reTNF\" \"is created with the 16 runs\n",
    "run_noTNF_reTNF = umbs.UpP_MaBoSS(model_reTNF, upp_file, 'noTNF_reTNF', previous_run=run_noTNF)\n",
    "pop_ratios_noTNF_reTNF = run_noTNF_reTNF.get_population_ratios('TNF')"
   ]
  },
  {
   "cell_type": "raw",
   "metadata": {},
   "source": [
    "We plot the population ratios for the two protocols: (Pulse of TNF) + TNF (or WT + reTNF), (no pulse of TNF) + TNF (noTNF + reTNF_noTNF). "
   ]
  },
  {
   "cell_type": "code",
   "execution_count": 11,
   "metadata": {},
   "outputs": [
    {
     "data": {
      "image/png": "[encoded data removed]",
      "text/plain": [
       "<Figure size 864x360 with 1 Axes>"
      ]
     },
     "metadata": {
      "needs_background": "light"
     },
     "output_type": "display_data"
    }
   ],
   "source": [
    "# Plot population ratios for a second treatment of TNF with or without the initial TNF stimulation\n",
    "# A figure \"figure_two_steps_ratios.pdf\" is saved\n",
    "figure = plt.figure(figsize = (12,5))\n",
    "pop_ratios_WT.name = \"Pulse TNF\"\n",
    "pop_ratios_WT.plot(style='.-k', legend=True)\n",
    "pop_ratios_noTNF.plot(style='.-b', legend=True)\n",
    "pop_ratios_reTNF.plot(style='.-r', legend=True)\n",
    "pop_ratios_noTNF_reTNF.plot(style='.-g', legend=True)\n",
    "save_figure(figure, 'two_steps_ratios')"
   ]
  },
  {
   "cell_type": "raw",
   "metadata": {},
   "source": [
    "Based on these results, we conclude that the population that has received an initial treatment of TNF shows a resistance to the second TNF treatment: the population ratio between the two scenarios (with or without initial treatment of TNF) shows a difference. \n",
    "\n",
    "In conclusion, the cells that have not been treated previously respond better to the TNF treatment (green) than the ones that have been already treated (red)."
   ]
  },
  {
   "cell_type": "markdown",
   "metadata": {},
   "source": [
    "# Study TNF resistance"
   ]
  },
  {
   "cell_type": "raw",
   "metadata": {},
   "source": [
    "In this section, we study the conditions for TNF resistance. The different protocols will be tested on single mutants of the model: no pulse of TNF followed by no TNF, no pulse of TNF followed by TNF, pulse of TNF followed by no TNF, pulse of TNF followed by TNF.\n",
    "\n",
    "A mutant of the model is defined by fixing the value of a variable to 0 (deletion) and ignore its logical rule. The different scenarios combining initial and secondary TNF treatments are simulated for each of the mutant.\n",
    "\n",
    "A folder \"TNF_sensitivity\" is created in working folder which includes both WT and mutant simulations."
   ]
  },
  {
   "cell_type": "code",
   "execution_count": 12,
   "metadata": {},
   "outputs": [],
   "source": [
    "workdir = 'TNF_sensitivity'\n",
    "\n",
    "def tnf_effect(workdir, model, name, df=None):\n",
    "    \"explore the effect of TNF in a given model variant\"\n",
    "    \n",
    "    if df is None:\n",
    "        df = pd.DataFrame()\n",
    "    \n",
    "    # Configuration of the model variants corresponding to combinations of (no) initial and secondary treatments\n",
    "    model_pulse = model\n",
    "    model_nopulse = model.copy()\n",
    "    model_nopulse.network.set_istate('TNF', [1,0])\n",
    "    \n",
    "    model_tnf = maboss.copy_and_update_parameters(model, {'$TNF_induc':20})\n",
    "    model_notnf = model\n",
    "    \n",
    "    # storage of all runs\n",
    "    runs = {}\n",
    "    \n",
    "    # Simulations of no initial TNF pulse, then with or without constitutive TNF\n",
    "    run_no_pulse = umbs.UpP_MaBoSS(model_nopulse, upp_file, os.path.join(workdir, name, 'nopulse'))\n",
    "    runs['No pulse TNF, no TNF'] = umbs.UpP_MaBoSS(model_notnf, upp_file, os.path.join(workdir, name, 'noPulse_noTNF'), previous_run=run_no_pulse)\n",
    "    runs['No pulse TNF, TNF'] = umbs.UpP_MaBoSS(model_tnf, upp_file, os.path.join(workdir, name, 'noPulse_TNF'), previous_run=run_no_pulse)\n",
    "\n",
    "    # Simulations of initial TNF pulse, then with or without constitutive TNF\n",
    "    run_pulse = umbs.UpP_MaBoSS(model_pulse, upp_file, os.path.join(workdir, name, 'pulse'))\n",
    "    runs['Pulse TNF, no TNF'] = umbs.UpP_MaBoSS(model_notnf, upp_file, os.path.join(workdir, name, 'pulse_noTNF'), previous_run=run_pulse)\n",
    "    runs['Pulse TNF, TNF'] = umbs.UpP_MaBoSS(model_tnf, upp_file, os.path.join(workdir, name, 'pulse_TNF'), previous_run=run_pulse)\n",
    "\n",
    "    # Collection of population ratios\n",
    "    for key in runs:\n",
    "        pop_ratios = runs[key].get_population_ratios(key)\n",
    "        if key not in df.columns:\n",
    "            df[key] = pd.Series(name=name, dtype=np.float)\n",
    "        df.at[name, key] = pop_ratios.iloc[-1]\n",
    "\n",
    "    return df"
   ]
  },
  {
   "cell_type": "raw",
   "metadata": {},
   "source": [
    "Run all mutants for all protocols. Note that this could take a while."
   ]
  },
  {
   "cell_type": "code",
   "execution_count": 13,
   "metadata": {},
   "outputs": [
    {
     "name": "stderr",
     "output_type": "stream",
     "text": [
      "Warning: the given values should sum up to 1\n",
      "Warning: the given values should sum up to 1\n"
     ]
    },
    {
     "name": "stdout",
     "output_type": "stream",
     "text": [
      "ATP "
     ]
    },
    {
     "name": "stderr",
     "output_type": "stream",
     "text": [
      "Warning: the given values should sum up to 1\n",
      "Warning: the given values should sum up to 1\n",
      "Warning: the given values should sum up to 1\n",
      "Warning: the given values should sum up to 1\n"
     ]
    },
    {
     "name": "stdout",
     "output_type": "stream",
     "text": [
      "BAX "
     ]
    },
    {
     "name": "stderr",
     "output_type": "stream",
     "text": [
      "Warning: the given values should sum up to 1\n",
      "Warning: the given values should sum up to 1\n"
     ]
    },
    {
     "name": "stdout",
     "output_type": "stream",
     "text": [
      "BCL2 "
     ]
    },
    {
     "name": "stderr",
     "output_type": "stream",
     "text": [
      "Warning: the given values should sum up to 1\n",
      "Warning: the given values should sum up to 1\n"
     ]
    },
    {
     "name": "stdout",
     "output_type": "stream",
     "text": [
      "CASP3 "
     ]
    },
    {
     "name": "stderr",
     "output_type": "stream",
     "text": [
      "Warning: the given values should sum up to 1\n",
      "Warning: the given values should sum up to 1\n"
     ]
    },
    {
     "name": "stdout",
     "output_type": "stream",
     "text": [
      "CASP8 "
     ]
    },
    {
     "name": "stderr",
     "output_type": "stream",
     "text": [
      "Warning: the given values should sum up to 1\n",
      "Warning: the given values should sum up to 1\n"
     ]
    },
    {
     "name": "stdout",
     "output_type": "stream",
     "text": [
      "Cyt_c "
     ]
    },
    {
     "name": "stderr",
     "output_type": "stream",
     "text": [
      "Warning: the given values should sum up to 1\n",
      "Warning: the given values should sum up to 1\n"
     ]
    },
    {
     "name": "stdout",
     "output_type": "stream",
     "text": [
      "DISC_FAS "
     ]
    },
    {
     "name": "stderr",
     "output_type": "stream",
     "text": [
      "Warning: the given values should sum up to 1\n",
      "Warning: the given values should sum up to 1\n"
     ]
    },
    {
     "name": "stdout",
     "output_type": "stream",
     "text": [
      "DISC_TNF "
     ]
    },
    {
     "name": "stderr",
     "output_type": "stream",
     "text": [
      "Warning: the given values should sum up to 1\n",
      "Warning: the given values should sum up to 1\n"
     ]
    },
    {
     "name": "stdout",
     "output_type": "stream",
     "text": [
      "FADD "
     ]
    },
    {
     "name": "stderr",
     "output_type": "stream",
     "text": [
      "Warning: the given values should sum up to 1\n",
      "Warning: the given values should sum up to 1\n"
     ]
    },
    {
     "name": "stdout",
     "output_type": "stream",
     "text": [
      "FASL "
     ]
    },
    {
     "name": "stderr",
     "output_type": "stream",
     "text": [
      "Warning: the given values should sum up to 1\n",
      "Warning: the given values should sum up to 1\n"
     ]
    },
    {
     "name": "stdout",
     "output_type": "stream",
     "text": [
      "IKK "
     ]
    },
    {
     "name": "stderr",
     "output_type": "stream",
     "text": [
      "Warning: the given values should sum up to 1\n",
      "Warning: the given values should sum up to 1\n"
     ]
    },
    {
     "name": "stdout",
     "output_type": "stream",
     "text": [
      "MOMP "
     ]
    },
    {
     "name": "stderr",
     "output_type": "stream",
     "text": [
      "Warning: the given values should sum up to 1\n",
      "Warning: the given values should sum up to 1\n",
      "Warning: the given values should sum up to 1\n",
      "Warning: the given values should sum up to 1\n"
     ]
    },
    {
     "name": "stdout",
     "output_type": "stream",
     "text": [
      "MPT "
     ]
    },
    {
     "name": "stderr",
     "output_type": "stream",
     "text": [
      "Warning: the given values should sum up to 1\n",
      "Warning: the given values should sum up to 1\n",
      "Warning: the given values should sum up to 1\n",
      "Warning: the given values should sum up to 1\n"
     ]
    },
    {
     "name": "stdout",
     "output_type": "stream",
     "text": [
      "NFkB "
     ]
    },
    {
     "name": "stderr",
     "output_type": "stream",
     "text": [
      "Warning: the given values should sum up to 1\n",
      "Warning: the given values should sum up to 1\n",
      "Warning: the given values should sum up to 1\n",
      "Warning: the given values should sum up to 1\n"
     ]
    },
    {
     "name": "stdout",
     "output_type": "stream",
     "text": [
      "RIP1 "
     ]
    },
    {
     "name": "stderr",
     "output_type": "stream",
     "text": [
      "Warning: the given values should sum up to 1\n",
      "Warning: the given values should sum up to 1\n"
     ]
    },
    {
     "name": "stdout",
     "output_type": "stream",
     "text": [
      "RIP1K "
     ]
    },
    {
     "name": "stderr",
     "output_type": "stream",
     "text": [
      "Warning: the given values should sum up to 1\n",
      "Warning: the given values should sum up to 1\n"
     ]
    },
    {
     "name": "stdout",
     "output_type": "stream",
     "text": [
      "RIP1ub "
     ]
    },
    {
     "name": "stderr",
     "output_type": "stream",
     "text": [
      "Warning: the given values should sum up to 1\n",
      "Warning: the given values should sum up to 1\n"
     ]
    },
    {
     "name": "stdout",
     "output_type": "stream",
     "text": [
      "ROS "
     ]
    },
    {
     "name": "stderr",
     "output_type": "stream",
     "text": [
      "Warning: the given values should sum up to 1\n",
      "Warning: the given values should sum up to 1\n"
     ]
    },
    {
     "name": "stdout",
     "output_type": "stream",
     "text": [
      "SMAC "
     ]
    },
    {
     "name": "stderr",
     "output_type": "stream",
     "text": [
      "Warning: the given values should sum up to 1\n",
      "Warning: the given values should sum up to 1\n"
     ]
    },
    {
     "name": "stdout",
     "output_type": "stream",
     "text": [
      "TNFR XIAP "
     ]
    },
    {
     "name": "stderr",
     "output_type": "stream",
     "text": [
      "Warning: the given values should sum up to 1\n",
      "Warning: the given values should sum up to 1\n",
      "Warning: the given values should sum up to 1\n",
      "Warning: the given values should sum up to 1\n"
     ]
    },
    {
     "name": "stdout",
     "output_type": "stream",
     "text": [
      "cFLIP "
     ]
    },
    {
     "name": "stderr",
     "output_type": "stream",
     "text": [
      "Warning: the given values should sum up to 1\n",
      "Warning: the given values should sum up to 1\n",
      "Warning: the given values should sum up to 1\n",
      "Warning: the given values should sum up to 1\n"
     ]
    },
    {
     "name": "stdout",
     "output_type": "stream",
     "text": [
      "cIAP "
     ]
    },
    {
     "name": "stderr",
     "output_type": "stream",
     "text": [
      "Warning: the given values should sum up to 1\n",
      "Warning: the given values should sum up to 1\n"
     ]
    },
    {
     "name": "stdout",
     "output_type": "stream",
     "text": [
      "mROS "
     ]
    },
    {
     "name": "stderr",
     "output_type": "stream",
     "text": [
      "Warning: the given values should sum up to 1\n",
      "Warning: the given values should sum up to 1\n"
     ]
    },
    {
     "name": "stdout",
     "output_type": "stream",
     "text": [
      "mXIAP "
     ]
    },
    {
     "name": "stderr",
     "output_type": "stream",
     "text": [
      "Warning: the given values should sum up to 1\n",
      "Warning: the given values should sum up to 1\n"
     ]
    },
    {
     "name": "stdout",
     "output_type": "stream",
     "text": [
      "mcIAP "
     ]
    },
    {
     "name": "stderr",
     "output_type": "stream",
     "text": [
      "Warning: the given values should sum up to 1\n",
      "Warning: the given values should sum up to 1\n"
     ]
    }
   ],
   "source": [
    "# TNF sensitivity for the WT model\n",
    "ratios = tnf_effect(workdir, model_WT, 'WT')\n",
    "\n",
    "# List of all mutations to test\n",
    "# Here all species will be mutated except for the output nodes\n",
    "excluded = set( ( 'NonACD', 'Apoptosis', 'Survival', 'Division', 'Death', 'TNF', 'apoptosome') )\n",
    "nodes = [ n for n in model_WT.network.names if n not in excluded ]\n",
    "nodes.sort()\n",
    "\n",
    "\n",
    "# TNF sensitivity for each mutant of the model\n",
    "for mutant_node in nodes:\n",
    "    print(mutant_node, end=' ')\n",
    "    mut_model = maboss.copy_and_mutate(model_WT, [mutant_node], 'OFF')\n",
    "    tnf_effect(workdir, mut_model, '%s' % mutant_node, ratios)"
   ]
  },
  {
   "cell_type": "raw",
   "metadata": {},
   "source": [
    "The four protocols are plotted for each of the mutant."
   ]
  },
  {
   "cell_type": "code",
   "execution_count": 14,
   "metadata": {
    "scrolled": true
   },
   "outputs": [
    {
     "data": {
      "image/png": "[encoded data removed]",
      "text/plain": [
       "<Figure size 720x720 with 2 Axes>"
      ]
     },
     "metadata": {
      "needs_background": "light"
     },
     "output_type": "display_data"
    }
   ],
   "source": [
    "# Plot the TNF sensitivity results for the WT condition and for all mutants \n",
    "figure = plt.figure(figsize = (10,10))\n",
    "sns.heatmap(ratios, annot=False, cmap=colormap_scale, linewidths=1)\n",
    "save_figure(figure, 'heatmap')"
   ]
  },
  {
   "cell_type": "raw",
   "metadata": {},
   "source": [
    "To further understand the resistance effect observed in mutant conditions, the two conditions \"No initial TNF treatment\" (No pulse TNF) and \"Initial TNF treatment\" (Pulse TNF) are separated. \n",
    "In both cases, the ratio between the population ratio of a secondary treatment and the population ratio of no secondary treatment is computed, and plotted. All the mutants for which the value with initial TNF treatment is higher that the value with no initial treatment show resistance."
   ]
  },
  {
   "cell_type": "code",
   "execution_count": 15,
   "metadata": {
    "scrolled": true
   },
   "outputs": [
    {
     "data": {
      "image/png": "[encoded data removed]",
      "text/plain": [
       "<Figure size 720x720 with 4 Axes>"
      ]
     },
     "metadata": {
      "needs_background": "light"
     },
     "output_type": "display_data"
    }
   ],
   "source": [
    "# More abstract summary: cluster of the ratios of ratios\n",
    "ratios_ratios = pd.DataFrame()\n",
    "ratios_ratios['Pulse TNF'] = ratios['Pulse TNF, TNF'] / ratios['Pulse TNF, no TNF']\n",
    "ratios_ratios['No pulse TNF'] = ratios['No pulse TNF, TNF'] / ratios['No pulse TNF, no TNF']\n",
    "\n",
    "figure = sns.clustermap(ratios_ratios, annot=True, cmap=colormap_ratios, center=1, col_cluster=False)\n",
    "\n",
    "# Add a rectangle around the WT row\n",
    "wt_index = figure.dendrogram_row.reordered_ind.index(0)\n",
    "figure.ax_heatmap.add_patch(Rectangle((0, wt_index), 2, 1, fill=False, edgecolor='red', lw=3))\n",
    "\n",
    "save_figure(figure, 'cluster')"
   ]
  },
  {
   "cell_type": "code",
   "execution_count": null,
   "metadata": {},
   "outputs": [],
   "source": []
  }
 ],
 "metadata": {
  "kernelspec": {
   "display_name": "Python 3",
   "language": "python",
   "name": "python3"
  },
  "language_info": {
   "codemirror_mode": {
    "name": "ipython",
    "version": 3
   },
   "file_extension": ".py",
   "mimetype": "text/x-python",
   "name": "python",
   "nbconvert_exporter": "python",
   "pygments_lexer": "ipython3",
   "version": "3.7.2"
  }
 },
 "nbformat": 4,
 "nbformat_minor": 2
}
