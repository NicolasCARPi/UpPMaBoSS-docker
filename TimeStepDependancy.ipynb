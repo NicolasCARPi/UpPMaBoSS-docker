{
 "cells": [
  {
   "cell_type": "markdown",
   "metadata": {},
   "source": [
    "Necessary files:\n",
    "MaBoSS\n",
    "UpPMaBoSS.pl\n",
    "MBSS_FormatTable.pl\n",
    "CellFateModel.bnd\n",
    "CellFateModel.cfg\n",
    "CellFate.upp"
   ]
  },
  {
   "cell_type": "code",
   "execution_count": 1,
   "metadata": {},
   "outputs": [],
   "source": [
    "# Set up working environment\n",
    "import matplotlib.pyplot as plt\n",
    "from matplotlib.patches import Rectangle\n",
    "import seaborn as sns\n",
    "import pandas as pd\n",
    "import numpy as np\n",
    "import os\n",
    "\n",
    "import maboss\n",
    "\n",
    "\n",
    "# Set seaborn style and create color maps: white-black scale and blue-light-red for ratios\n",
    "sns.set_style(\"white\")\n",
    "colormap_scale = sns.light_palette(\"black\", as_cmap=True)\n",
    "colormap_ratios = sns.diverging_palette(240, 0, center='light', as_cmap=True)\n",
    "\n",
    "# Shortcut to save figures with a common pattern and format\n",
    "def save_figure(figure, title):\n",
    "    figure.savefig(\"figure_%s.pdf\" % title, bbox_inches=\"tight\")"
   ]
  },
  {
   "cell_type": "code",
   "execution_count": 2,
   "metadata": {},
   "outputs": [],
   "source": [
    "# Set up the required files\n",
    "bnd_file =\"CellFateModel.bnd\"\n",
    "cfg_WT = \"CellFateModel_1h.cfg\"\n",
    "upp_file = \"CellFate_1h.upp\"\n",
    "workdir  = \"WT\"\n",
    "\n",
    "# Load the Wild-Type model\n",
    "model_WT = maboss.load(bnd_file, cfg_WT)\n",
    "\n",
    "max_time = model_WT.param[\"max_time\"]\n",
    "time_tick = model_WT.param[\"time_tick\"]"
   ]
  },
  {
   "cell_type": "code",
   "execution_count": 7,
   "metadata": {},
   "outputs": [
    {
     "name": "stdout",
     "output_type": "stream",
     "text": [
      "Step ratio: 1\n"
     ]
    },
    {
     "ename": "TypeError",
     "evalue": "unsupported operand type(s) for +: 'float' and 'str'",
     "output_type": "error",
     "traceback": [
      "\u001b[0;31m---------------------------------------------------------------------------\u001b[0m",
      "\u001b[0;31mTypeError\u001b[0m                                 Traceback (most recent call last)",
      "\u001b[0;32m<ipython-input-7-06e4a6935573>\u001b[0m in \u001b[0;36m<module>\u001b[0;34m\u001b[0m\n\u001b[1;32m     22\u001b[0m     \u001b[0;31m# Run UpPMaBoSS on the modified setup\u001b[0m\u001b[0;34m\u001b[0m\u001b[0;34m\u001b[0m\u001b[0;34m\u001b[0m\u001b[0m\n\u001b[1;32m     23\u001b[0m     \u001b[0mrwd\u001b[0m \u001b[0;34m=\u001b[0m \u001b[0;34m\"%s_R%s\"\u001b[0m \u001b[0;34m%\u001b[0m \u001b[0;34m(\u001b[0m\u001b[0mworkdir\u001b[0m\u001b[0;34m,\u001b[0m \u001b[0mratio\u001b[0m\u001b[0;34m)\u001b[0m\u001b[0;34m\u001b[0m\u001b[0;34m\u001b[0m\u001b[0m\n\u001b[0;32m---> 24\u001b[0;31m     \u001b[0mrun_step\u001b[0m \u001b[0;34m=\u001b[0m \u001b[0mmaboss\u001b[0m\u001b[0;34m.\u001b[0m\u001b[0mUpdatePopulation\u001b[0m\u001b[0;34m(\u001b[0m\u001b[0mstep_model\u001b[0m\u001b[0;34m,\u001b[0m \u001b[0mstep_upp_file\u001b[0m\u001b[0;34m,\u001b[0m \u001b[0mrwd\u001b[0m\u001b[0;34m)\u001b[0m\u001b[0;34m\u001b[0m\u001b[0;34m\u001b[0m\u001b[0m\n\u001b[0m\u001b[1;32m     25\u001b[0m \u001b[0;34m\u001b[0m\u001b[0m\n\u001b[1;32m     26\u001b[0m     \u001b[0;31m# TODO: should this use the python API?\u001b[0m\u001b[0;34m\u001b[0m\u001b[0;34m\u001b[0m\u001b[0;34m\u001b[0m\u001b[0m\n",
      "\u001b[0;32m~/miniconda3/envs/umb/lib/python3.7/site-packages/maboss/upp/upp.py\u001b[0m in \u001b[0;36m__init__\u001b[0;34m(self, model, uppfile, workdir, previous_run, verbose, overwrite)\u001b[0m\n\u001b[1;32m     75\u001b[0m                 \u001b[0m_get_next_condition_from_trajectory\u001b[0m\u001b[0;34m(\u001b[0m\u001b[0mprevious_run\u001b[0m\u001b[0;34m,\u001b[0m \u001b[0mself\u001b[0m\u001b[0;34m.\u001b[0m\u001b[0mmodel\u001b[0m\u001b[0;34m)\u001b[0m\u001b[0;34m\u001b[0m\u001b[0;34m\u001b[0m\u001b[0m\n\u001b[1;32m     76\u001b[0m \u001b[0;34m\u001b[0m\u001b[0m\n\u001b[0;32m---> 77\u001b[0;31m             \u001b[0mself\u001b[0m\u001b[0;34m.\u001b[0m\u001b[0m_run\u001b[0m\u001b[0;34m(\u001b[0m\u001b[0;34m)\u001b[0m\u001b[0;34m\u001b[0m\u001b[0;34m\u001b[0m\u001b[0m\n\u001b[0m\u001b[1;32m     78\u001b[0m \u001b[0;34m\u001b[0m\u001b[0m\n\u001b[1;32m     79\u001b[0m     \u001b[0;32mdef\u001b[0m \u001b[0m_run\u001b[0m\u001b[0;34m(\u001b[0m\u001b[0mself\u001b[0m\u001b[0;34m)\u001b[0m\u001b[0;34m:\u001b[0m\u001b[0;34m\u001b[0m\u001b[0;34m\u001b[0m\u001b[0m\n",
      "\u001b[0;32m~/miniconda3/envs/umb/lib/python3.7/site-packages/maboss/upp/upp.py\u001b[0m in \u001b[0;36m_run\u001b[0;34m(self)\u001b[0m\n\u001b[1;32m     98\u001b[0m \u001b[0;34m\u001b[0m\u001b[0m\n\u001b[1;32m     99\u001b[0m             \u001b[0mself\u001b[0m\u001b[0;34m.\u001b[0m\u001b[0mpop_ratio\u001b[0m \u001b[0;34m*=\u001b[0m \u001b[0mself\u001b[0m\u001b[0;34m.\u001b[0m\u001b[0m_updatePopRatio\u001b[0m\u001b[0;34m(\u001b[0m\u001b[0mLastLinePrevTraj\u001b[0m\u001b[0;34m)\u001b[0m\u001b[0;34m\u001b[0m\u001b[0;34m\u001b[0m\u001b[0m\n\u001b[0;32m--> 100\u001b[0;31m             \u001b[0mself\u001b[0m\u001b[0;34m.\u001b[0m\u001b[0mpop_ratios\u001b[0m\u001b[0;34m[\u001b[0m\u001b[0mself\u001b[0m\u001b[0;34m.\u001b[0m\u001b[0mtime_shift\u001b[0m \u001b[0;34m+\u001b[0m \u001b[0mself\u001b[0m\u001b[0;34m.\u001b[0m\u001b[0mtime_step\u001b[0m\u001b[0;34m*\u001b[0m\u001b[0mstepIndex\u001b[0m\u001b[0;34m]\u001b[0m \u001b[0;34m=\u001b[0m \u001b[0mself\u001b[0m\u001b[0;34m.\u001b[0m\u001b[0mpop_ratio\u001b[0m\u001b[0;34m\u001b[0m\u001b[0;34m\u001b[0m\u001b[0m\n\u001b[0m\u001b[1;32m    101\u001b[0m \u001b[0;34m\u001b[0m\u001b[0m\n\u001b[1;32m    102\u001b[0m             \u001b[0mmodelStep\u001b[0m \u001b[0;34m=\u001b[0m \u001b[0mself\u001b[0m\u001b[0;34m.\u001b[0m\u001b[0m_buildUpdateCfg\u001b[0m\u001b[0;34m(\u001b[0m\u001b[0mmodelStep\u001b[0m\u001b[0;34m,\u001b[0m \u001b[0mLastLinePrevTraj\u001b[0m\u001b[0;34m)\u001b[0m\u001b[0;34m\u001b[0m\u001b[0;34m\u001b[0m\u001b[0m\n",
      "\u001b[0;31mTypeError\u001b[0m: unsupported operand type(s) for +: 'float' and 'str'"
     ]
    },
    {
     "data": {
      "image/png": "[encoded data removed]",
      "text/plain": [
       "<Figure size 432x288 with 1 Axes>"
      ]
     },
     "metadata": {
      "needs_background": "light"
     },
     "output_type": "display_data"
    }
   ],
   "source": [
    "ratios = {1: \"black\", 2:\"red\", 3:\"blue\", 4:\"green\"}\n",
    "fig, ax = plt.subplots()\n",
    "for ratio,color in ratios.items():\n",
    "    print(\"Step ratio:\", ratio)\n",
    "    # Update the max step and time tick based on the WT model\n",
    "    params = {\n",
    "        'max_time': \"%s/%s\" % (max_time, ratio),\n",
    "        \"time_tick\": \"%s/%s\" % (time_tick, ratio)\n",
    "    }\n",
    "    step_model = maboss.copy_and_update_parameters(model_WT, params)\n",
    "\n",
    "    # Also adapt the number of time steps in the upp file\n",
    "    # TODO: python API to manipulate the upp file\n",
    "    step_upp_file = upp_file.replace(\".upp\",\"_R\"+str(ratio)+\".upp\")\n",
    "    of = open(upp_file,'r')\n",
    "    mf = open(step_upp_file,'w')\n",
    "    for line in of:\n",
    "        mf.write(line.replace(\"steps = 48\",\"steps = \"+str(48*ratio)))\n",
    "    of.close()\n",
    "    mf.close()\n",
    "\n",
    "    # Run UpPMaBoSS on the modified setup\n",
    "    rwd = \"%s_R%s\" % (workdir, ratio)\n",
    "    run_step = maboss.UpdatePopulation(step_model, step_upp_file, rwd)\n",
    "\n",
    "    # TODO: should this use the python API?\n",
    "    pop_ratios = open(\"%s/model_PopR.csv\" % rwd, \"r\").readlines()\n",
    "    pop_ratios.pop(0)\n",
    "\n",
    "    time_steps = []\n",
    "    pop_ratio_steps = []\n",
    "    for tmpRatio in pop_ratios:\n",
    "        tmpSplit = tmpRatio.split(\"\\t\")\n",
    "        time_steps.append(int(tmpSplit[0])*max_time/ratio)\n",
    "        pop_ratio_steps.append(float(tmpSplit[1].replace(\"\\n\",\"\")))\n",
    "    ax.plot(time_steps,pop_ratio_steps,'k.-',label='Time Step = '+str(3/ratio),c=color)\n",
    "\n",
    "\n",
    "ax.legend(loc='upper right',prop={'size':8})\n",
    "plt.show()"
   ]
  },
  {
   "cell_type": "code",
   "execution_count": 8,
   "metadata": {},
   "outputs": [],
   "source": [
    "#Create a model for 48h with no TNF\n",
    "\n",
    "model_48h_noTNF = model_48h.copy()\n",
    "wd48_noTNF = \"%s_48h_noTNF\" % workdir\n",
    "model_48h_noTNF.network.set_istate('TNF',[1,0])\n",
    "\n",
    "run_48h_noTNF = umbs.UpP_MaBoSS(model_48h_noTNF, upp_file, wd48_noTNF)\n",
    "\n",
    "# The MBSS_FormatTable.pl script is part of the MaBoSS env, it should be in $PATH\n",
    "# Load the probtraj file and convert it to a CSV file\n",
    "if not os.path.exists(\"%s/model\" % wd48_noTNF):\n",
    "    os.chdir(wd48_noTNF)\n",
    "    proc48h_noTNF = subprocess.Popen([\"MBSS_FormatTable.pl model.bnd model.cfg\"], stdout=subprocess.PIPE, shell=True)\n",
    "    (out48h_noTNF, err48h_noTNF) = proc48h_noTNF.communicate()\n",
    "    os.chdir(\"..\")\n",
    "\n",
    "\n",
    "columns = {\n",
    "    'Prob[Death]':            ('black','P[Death]'),\n",
    "    'Prob[Division]':         ('red','P[Division]'),\n",
    "    'Prob[Death--Division]':  ('blue','P[Division,Death]'),\n",
    "#    'Prob[NFkB]':             ('grey','P[NFkB]'),\n",
    "#    'Prob[Death--NFkB]':      ('green','P[NFkB,Death]'),\n",
    "#    'Prob[NFkB--Division]':   ('orange','P[NFkB,Div]'),\n",
    "#    'Prob[Death--NFkB--Division]': ('purple','P[NFkB,Div,Death]'),\n",
    "}\n",
    "usecolsP = ['Time' ] + [c for c in columns.keys()]\n",
    "usecolsP\n",
    "trajs = pd.read_csv(wd48_noTNF+\"/model/model_probtraj_table.csv\", sep=\"\\t\", usecols=usecolsP)\n"
   ]
  },
  {
   "cell_type": "code",
   "execution_count": 7,
   "metadata": {},
   "outputs": [
    {
     "data": {
      "text/plain": [
       "<matplotlib.axes._subplots.AxesSubplot at 0x7f5ec7a15b00>"
      ]
     },
     "execution_count": 7,
     "metadata": {},
     "output_type": "execute_result"
    },
    {
     "data": {
      "image/png": "[encoded data removed]",
      "text/plain": [
       "<matplotlib.figure.Figure at 0x7f5ec7a12ba8>"
      ]
     },
     "metadata": {},
     "output_type": "display_data"
    }
   ],
   "source": [
    "trajs.plot(x='Time')"
   ]
  },
  {
   "cell_type": "code",
   "execution_count": 18,
   "metadata": {},
   "outputs": [
    {
     "name": "stdout",
     "output_type": "stream",
     "text": [
      "Step ratio: 1\n",
      "Step ratio: 2\n",
      "Step ratio: 3\n",
      "Step ratio: 4\n"
     ]
    },
    {
     "data": {
      "image/png": "[encoded data removed]",
      "text/plain": [
       "<matplotlib.figure.Figure at 0x7f5ec7acf668>"
      ]
     },
     "metadata": {},
     "output_type": "display_data"
    },
    {
     "data": {
      "image/png": "[encoded data removed]",
      "text/plain": [
       "<matplotlib.figure.Figure at 0x7f5ec7ab25c0>"
      ]
     },
     "metadata": {},
     "output_type": "display_data"
    }
   ],
   "source": [
    "model_WT_noTNF = model_WT.copy()\n",
    "model_WT_noTNF.network.set_istate('TNF',[1.0,0.0])\n",
    "ratios = {1: \"black\", 2:\"red\", 3:\"blue\", 4:\"green\"}\n",
    "fig, ax = plt.subplots()\n",
    "for ratio,color in ratios.items():\n",
    "    print(\"Step ratio:\", ratio)\n",
    "    # Update the max step and time tick based on the WT model\n",
    "    params = {\n",
    "        'max_time': \"%s/%s\" % (max_time, ratio),\n",
    "        \"time_tick\": \"%s/%s\" % (time_tick, ratio)\n",
    "    }\n",
    "    step_model_noTNF = maboss.copy_and_update_parameters(model_WT_noTNF, params)\n",
    "\n",
    "    # Also adapt the number of time steps in the upp file\n",
    "    # TODO: python API to manipulate the upp file\n",
    "    step_upp_file = upp_file.replace(\".upp\",\"_R\"+str(ratio)+\".upp\")\n",
    "    #of = open(upp_file,'r')\n",
    "    #mf = open(step_upp_file,'w')\n",
    "    #for line in of:\n",
    "    #    mf.write(line.replace(\"steps = 16\",\"steps = \"+str(16*ratio)))\n",
    "    #of.close()\n",
    "    #mf.close()\n",
    "\n",
    "    # Run UpPMaBoSS on the modified setup\n",
    "    rwd = \"%s_noTNF_R%s\" % (workdir, ratio)\n",
    "    run_step_noTNF = umbs.UpP_MaBoSS(step_model_noTNF, step_upp_file, rwd)\n",
    "\n",
    "    # TODO: should this use the python API?\n",
    "    pop_ratios = open(\"%s/model_PopR.csv\" % rwd, \"r\").readlines()\n",
    "    pop_ratios.pop(0)\n",
    "\n",
    "    time_steps = []\n",
    "    pop_ratio_steps = []\n",
    "    for tmpRatio in pop_ratios:\n",
    "        tmpSplit = tmpRatio.split(\"\\t\")\n",
    "        time_steps.append(int(tmpSplit[0])*max_time/ratio)\n",
    "        pop_ratio_steps.append(float(tmpSplit[1].replace(\"\\n\",\"\")))\n",
    "    ax.plot(time_steps,pop_ratio_steps,'k.-',label='Time Step = '+str(3/ratio),c=color)\n",
    "\n",
    "\n",
    "ax.legend(loc='upper right',prop={'size':8})\n",
    "plt.show()\n",
    "fig, ax = plt.subplots()\n",
    "for ratio,color in ratios.items():\n",
    "    rwd = \"%s_noTNF_R%s\" % (workdir, ratio)\n",
    "    pop_ratios = open(\"%s/model_PopR.csv\" % rwd, \"r\").readlines()\n",
    "    pop_ratios.pop(0)\n",
    "\n",
    "    time_steps = []\n",
    "    pop_ratio_steps = []\n",
    "    for tmpRatio in pop_ratios:\n",
    "        tmpSplit = tmpRatio.split(\"\\t\")\n",
    "        time_steps.append(int(tmpSplit[0])*max_time/ratio)\n",
    "        pop_ratio_steps.append(float(tmpSplit[1].replace(\"\\n\",\"\")))\n",
    "    ax.plot(time_steps,pop_ratio_steps,'k.-',label='Time Step = '+str(3/ratio),c=color)\n",
    "plt.xlim(0,10)\n",
    "ax.legend(loc='upper right',prop={'size':8})\n",
    "plt.show()\n"
   ]
  },
  {
   "cell_type": "code",
   "execution_count": 10,
   "metadata": {},
   "outputs": [
    {
     "data": {
      "text/plain": [
       "[0.0,\n",
       " 0.75,\n",
       " 1.5,\n",
       " 2.25,\n",
       " 3.0,\n",
       " 3.75,\n",
       " 4.5,\n",
       " 5.25,\n",
       " 6.0,\n",
       " 6.75,\n",
       " 7.5,\n",
       " 8.25,\n",
       " 9.0,\n",
       " 9.75,\n",
       " 10.5,\n",
       " 11.25,\n",
       " 12.0,\n",
       " 12.75,\n",
       " 13.5,\n",
       " 14.25,\n",
       " 15.0,\n",
       " 15.75,\n",
       " 16.5,\n",
       " 17.25,\n",
       " 18.0,\n",
       " 18.75,\n",
       " 19.5,\n",
       " 20.25,\n",
       " 21.0,\n",
       " 21.75,\n",
       " 22.5,\n",
       " 23.25,\n",
       " 24.0,\n",
       " 24.75,\n",
       " 25.5,\n",
       " 26.25,\n",
       " 27.0,\n",
       " 27.75,\n",
       " 28.5,\n",
       " 29.25,\n",
       " 30.0,\n",
       " 30.75,\n",
       " 31.5,\n",
       " 32.25,\n",
       " 33.0,\n",
       " 33.75,\n",
       " 34.5,\n",
       " 35.25,\n",
       " 36.0,\n",
       " 36.75,\n",
       " 37.5,\n",
       " 38.25,\n",
       " 39.0,\n",
       " 39.75,\n",
       " 40.5,\n",
       " 41.25,\n",
       " 42.0,\n",
       " 42.75,\n",
       " 43.5,\n",
       " 44.25,\n",
       " 45.0,\n",
       " 45.75,\n",
       " 46.5,\n",
       " 47.25,\n",
       " 48.0]"
      ]
     },
     "execution_count": 10,
     "metadata": {},
     "output_type": "execute_result"
    }
   ],
   "source": [
    "time_steps\n"
   ]
  },
  {
   "cell_type": "code",
   "execution_count": null,
   "metadata": {},
   "outputs": [],
   "source": []
  }
 ],
 "metadata": {
  "kernelspec": {
   "display_name": "Python 3",
   "language": "python",
   "name": "python3"
  },
  "language_info": {
   "codemirror_mode": {
    "name": "ipython",
    "version": 3
   },
   "file_extension": ".py",
   "mimetype": "text/x-python",
   "name": "python",
   "nbconvert_exporter": "python",
   "pygments_lexer": "ipython3",
   "version": "3.7.3"
  }
 },
 "nbformat": 4,
 "nbformat_minor": 2
}
